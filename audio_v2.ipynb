{
 "cells": [
  {
   "cell_type": "code",
   "execution_count": 42,
   "metadata": {},
   "outputs": [],
   "source": [
    "import numpy as np\n",
    "import pandas as pd\n",
    "import librosa\n",
    "import librosa.display\n",
    "import matplotlib.pyplot as plt"
   ]
  },
  {
   "cell_type": "code",
   "execution_count": 60,
   "metadata": {},
   "outputs": [],
   "source": [
    "df = pd.read_excel('D:/UNI/IA/RadioAnalyzer/audios/data.xlsx')"
   ]
  },
  {
   "cell_type": "code",
   "execution_count": 61,
   "metadata": {},
   "outputs": [
    {
     "data": {
      "text/html": [
       "<div>\n",
       "<style scoped>\n",
       "    .dataframe tbody tr th:only-of-type {\n",
       "        vertical-align: middle;\n",
       "    }\n",
       "\n",
       "    .dataframe tbody tr th {\n",
       "        vertical-align: top;\n",
       "    }\n",
       "\n",
       "    .dataframe thead th {\n",
       "        text-align: right;\n",
       "    }\n",
       "</style>\n",
       "<table border=\"1\" class=\"dataframe\">\n",
       "  <thead>\n",
       "    <tr style=\"text-align: right;\">\n",
       "      <th></th>\n",
       "      <th>audio</th>\n",
       "      <th>categoria</th>\n",
       "    </tr>\n",
       "  </thead>\n",
       "  <tbody>\n",
       "    <tr>\n",
       "      <th>0</th>\n",
       "      <td>BITEL_audio1_1.wav</td>\n",
       "      <td>BITEL</td>\n",
       "    </tr>\n",
       "    <tr>\n",
       "      <th>1</th>\n",
       "      <td>BITEL_audio1_2.wav</td>\n",
       "      <td>BITEL</td>\n",
       "    </tr>\n",
       "    <tr>\n",
       "      <th>2</th>\n",
       "      <td>BITEL_audio1_3.wav</td>\n",
       "      <td>BITEL</td>\n",
       "    </tr>\n",
       "    <tr>\n",
       "      <th>3</th>\n",
       "      <td>BITEL_audio2_1.wav</td>\n",
       "      <td>BITEL</td>\n",
       "    </tr>\n",
       "    <tr>\n",
       "      <th>4</th>\n",
       "      <td>BITEL_audio2_2.wav</td>\n",
       "      <td>BITEL</td>\n",
       "    </tr>\n",
       "    <tr>\n",
       "      <th>5</th>\n",
       "      <td>BITEL_audio2_3.wav</td>\n",
       "      <td>BITEL</td>\n",
       "    </tr>\n",
       "    <tr>\n",
       "      <th>6</th>\n",
       "      <td>BITEL_audio3_1.wav</td>\n",
       "      <td>BITEL</td>\n",
       "    </tr>\n",
       "    <tr>\n",
       "      <th>7</th>\n",
       "      <td>BITEL_audio3_2.wav</td>\n",
       "      <td>BITEL</td>\n",
       "    </tr>\n",
       "    <tr>\n",
       "      <th>8</th>\n",
       "      <td>BITEL_audio3_3.wav</td>\n",
       "      <td>BITEL</td>\n",
       "    </tr>\n",
       "    <tr>\n",
       "      <th>9</th>\n",
       "      <td>CASAMAGIA_audio4_1.wav</td>\n",
       "      <td>CASAMAGIA</td>\n",
       "    </tr>\n",
       "    <tr>\n",
       "      <th>10</th>\n",
       "      <td>CASAMAGIA_audio4_2.wav</td>\n",
       "      <td>CASAMAGIA</td>\n",
       "    </tr>\n",
       "    <tr>\n",
       "      <th>11</th>\n",
       "      <td>CASAMAGIA_audio4_3.wav</td>\n",
       "      <td>CASAMAGIA</td>\n",
       "    </tr>\n",
       "    <tr>\n",
       "      <th>12</th>\n",
       "      <td>CASAMAGIA_audio4_4.wav</td>\n",
       "      <td>CASAMAGIA</td>\n",
       "    </tr>\n",
       "    <tr>\n",
       "      <th>13</th>\n",
       "      <td>CASAMAGIA_audio4_5.wav</td>\n",
       "      <td>CASAMAGIA</td>\n",
       "    </tr>\n",
       "    <tr>\n",
       "      <th>14</th>\n",
       "      <td>CASAMAGIA_audio4_6.wav</td>\n",
       "      <td>CASAMAGIA</td>\n",
       "    </tr>\n",
       "    <tr>\n",
       "      <th>15</th>\n",
       "      <td>CASAMAGIA_audio4_7.wav</td>\n",
       "      <td>CASAMAGIA</td>\n",
       "    </tr>\n",
       "    <tr>\n",
       "      <th>16</th>\n",
       "      <td>CASAMAGIA_audio4_8.wav</td>\n",
       "      <td>CASAMAGIA</td>\n",
       "    </tr>\n",
       "    <tr>\n",
       "      <th>17</th>\n",
       "      <td>CASAMAGIA_audio4_9.wav</td>\n",
       "      <td>CASAMAGIA</td>\n",
       "    </tr>\n",
       "    <tr>\n",
       "      <th>18</th>\n",
       "      <td>CASAMAGIA_audio4_10.wav</td>\n",
       "      <td>CASAMAGIA</td>\n",
       "    </tr>\n",
       "    <tr>\n",
       "      <th>19</th>\n",
       "      <td>CASAMAGIA_audio5_1.wav</td>\n",
       "      <td>CASAMAGIA</td>\n",
       "    </tr>\n",
       "  </tbody>\n",
       "</table>\n",
       "</div>"
      ],
      "text/plain": [
       "                      audio  categoria\n",
       "0        BITEL_audio1_1.wav      BITEL\n",
       "1        BITEL_audio1_2.wav      BITEL\n",
       "2        BITEL_audio1_3.wav      BITEL\n",
       "3        BITEL_audio2_1.wav      BITEL\n",
       "4        BITEL_audio2_2.wav      BITEL\n",
       "5        BITEL_audio2_3.wav      BITEL\n",
       "6        BITEL_audio3_1.wav      BITEL\n",
       "7        BITEL_audio3_2.wav      BITEL\n",
       "8        BITEL_audio3_3.wav      BITEL\n",
       "9    CASAMAGIA_audio4_1.wav  CASAMAGIA\n",
       "10   CASAMAGIA_audio4_2.wav  CASAMAGIA\n",
       "11   CASAMAGIA_audio4_3.wav  CASAMAGIA\n",
       "12   CASAMAGIA_audio4_4.wav  CASAMAGIA\n",
       "13   CASAMAGIA_audio4_5.wav  CASAMAGIA\n",
       "14   CASAMAGIA_audio4_6.wav  CASAMAGIA\n",
       "15   CASAMAGIA_audio4_7.wav  CASAMAGIA\n",
       "16   CASAMAGIA_audio4_8.wav  CASAMAGIA\n",
       "17   CASAMAGIA_audio4_9.wav  CASAMAGIA\n",
       "18  CASAMAGIA_audio4_10.wav  CASAMAGIA\n",
       "19   CASAMAGIA_audio5_1.wav  CASAMAGIA"
      ]
     },
     "execution_count": 61,
     "metadata": {},
     "output_type": "execute_result"
    }
   ],
   "source": [
    "df.head(20)"
   ]
  },
  {
   "cell_type": "code",
   "execution_count": 77,
   "metadata": {},
   "outputs": [],
   "source": [
    "N_FCC = 100\n",
    "def parser(row):\n",
    "    file_name = 'D:/UNI/IA/RadioAnalyzer/audios/data/'+str(row.audio)\n",
    "    try:\n",
    "        X, sample_rate = librosa.load(file_name, res_type='kaiser_fast')\n",
    "        mfccs = np.mean(librosa.feature.mfcc(y=X, sr=sample_rate, n_mfcc=N_FCC).T,axis=0) \n",
    "    except Exception as e:\n",
    "        print(\"Error encountered while parsing file: \", e)\n",
    "        return None\n",
    " \n",
    "    feature = mfccs\n",
    "    return feature\n",
    "\n",
    "df['feature'] = df.apply(lambda row:parser(row),axis=1)"
   ]
  },
  {
   "cell_type": "code",
   "execution_count": 78,
   "metadata": {},
   "outputs": [
    {
     "data": {
      "text/html": [
       "<div>\n",
       "<style scoped>\n",
       "    .dataframe tbody tr th:only-of-type {\n",
       "        vertical-align: middle;\n",
       "    }\n",
       "\n",
       "    .dataframe tbody tr th {\n",
       "        vertical-align: top;\n",
       "    }\n",
       "\n",
       "    .dataframe thead th {\n",
       "        text-align: right;\n",
       "    }\n",
       "</style>\n",
       "<table border=\"1\" class=\"dataframe\">\n",
       "  <thead>\n",
       "    <tr style=\"text-align: right;\">\n",
       "      <th></th>\n",
       "      <th>audio</th>\n",
       "      <th>categoria</th>\n",
       "      <th>feature</th>\n",
       "      <th>predicted</th>\n",
       "      <th>ok</th>\n",
       "    </tr>\n",
       "  </thead>\n",
       "  <tbody>\n",
       "    <tr>\n",
       "      <th>0</th>\n",
       "      <td>BITEL_audio1_1.wav</td>\n",
       "      <td>BITEL</td>\n",
       "      <td>[-106.61393387377534, 95.37412180539266, -21.3...</td>\n",
       "      <td>BITEL</td>\n",
       "      <td>True</td>\n",
       "    </tr>\n",
       "    <tr>\n",
       "      <th>1</th>\n",
       "      <td>BITEL_audio1_2.wav</td>\n",
       "      <td>BITEL</td>\n",
       "      <td>[-109.58131618811088, 98.67697056184011, -15.6...</td>\n",
       "      <td>BITEL</td>\n",
       "      <td>True</td>\n",
       "    </tr>\n",
       "    <tr>\n",
       "      <th>2</th>\n",
       "      <td>BITEL_audio1_3.wav</td>\n",
       "      <td>BITEL</td>\n",
       "      <td>[-106.4785425144758, 94.28854740407253, -13.79...</td>\n",
       "      <td>BITEL</td>\n",
       "      <td>True</td>\n",
       "    </tr>\n",
       "    <tr>\n",
       "      <th>3</th>\n",
       "      <td>BITEL_audio2_1.wav</td>\n",
       "      <td>BITEL</td>\n",
       "      <td>[-112.08756151856767, 95.88410940638981, -15.6...</td>\n",
       "      <td>BITEL</td>\n",
       "      <td>True</td>\n",
       "    </tr>\n",
       "    <tr>\n",
       "      <th>4</th>\n",
       "      <td>BITEL_audio2_2.wav</td>\n",
       "      <td>BITEL</td>\n",
       "      <td>[-110.18037998963602, 92.20879629345895, -10.5...</td>\n",
       "      <td>BITEL</td>\n",
       "      <td>True</td>\n",
       "    </tr>\n",
       "  </tbody>\n",
       "</table>\n",
       "</div>"
      ],
      "text/plain": [
       "                audio categoria  \\\n",
       "0  BITEL_audio1_1.wav     BITEL   \n",
       "1  BITEL_audio1_2.wav     BITEL   \n",
       "2  BITEL_audio1_3.wav     BITEL   \n",
       "3  BITEL_audio2_1.wav     BITEL   \n",
       "4  BITEL_audio2_2.wav     BITEL   \n",
       "\n",
       "                                             feature predicted    ok  \n",
       "0  [-106.61393387377534, 95.37412180539266, -21.3...     BITEL  True  \n",
       "1  [-109.58131618811088, 98.67697056184011, -15.6...     BITEL  True  \n",
       "2  [-106.4785425144758, 94.28854740407253, -13.79...     BITEL  True  \n",
       "3  [-112.08756151856767, 95.88410940638981, -15.6...     BITEL  True  \n",
       "4  [-110.18037998963602, 92.20879629345895, -10.5...     BITEL  True  "
      ]
     },
     "execution_count": 78,
     "metadata": {},
     "output_type": "execute_result"
    }
   ],
   "source": [
    "df.head()"
   ]
  },
  {
   "cell_type": "code",
   "execution_count": 79,
   "metadata": {},
   "outputs": [
    {
     "data": {
      "text/plain": [
       "array([-1.34698594e+02,  8.54516728e+01, -6.55805403e+00,  3.43829855e+01,\n",
       "        6.07344575e+00,  1.81331398e+01, -1.08076713e+01,  1.05620911e+01,\n",
       "       -1.63225397e+01,  9.27045591e+00, -9.53324571e+00,  6.47441255e+00,\n",
       "       -8.47810766e+00,  6.29893725e+00, -7.59722708e+00,  5.29705971e+00,\n",
       "       -1.03307778e+01,  5.62940915e+00, -8.65885338e+00,  3.91779037e+00,\n",
       "       -8.32280718e+00,  5.07541892e+00, -6.82072170e+00,  5.32696107e+00,\n",
       "       -5.09310572e+00,  5.13827952e+00, -3.73554836e+00,  4.46792731e+00,\n",
       "       -3.55870046e+00,  3.28375279e+00, -3.92606099e+00,  3.83466798e+00,\n",
       "       -2.79150029e+00,  3.08023834e+00, -1.92773175e+00,  1.82241830e+00,\n",
       "       -1.62724338e+00,  1.30937987e+00, -1.60203557e+00,  8.36826075e-01,\n",
       "       -2.08910898e+00,  1.02017357e+00, -9.30713692e-01, -1.03813023e-01,\n",
       "       -8.64384785e-01, -1.58904840e-01, -1.69776343e-01, -4.71453057e-01,\n",
       "       -5.26642453e-01, -1.53117658e+00,  6.79169623e-01,  1.37690547e-01,\n",
       "        1.79097550e-01, -1.15843796e+00,  6.52178580e-02, -1.65200696e+00,\n",
       "        2.31139301e-01, -1.87667161e+00,  1.20918571e+00, -1.00644501e+00,\n",
       "        3.13987553e-01, -1.72309765e+00,  5.87216498e-01, -1.09714933e+00,\n",
       "        7.80964700e-01, -1.43167254e+00,  9.41806272e-01, -1.45125684e+00,\n",
       "        6.10112790e-01, -1.36862705e+00,  1.05166463e+00, -1.56348049e+00,\n",
       "        6.37701308e-01, -1.42272185e+00,  7.29339239e-01, -1.33449880e+00,\n",
       "        8.22048968e-01, -1.06941102e+00,  8.02549427e-01, -1.13986667e+00,\n",
       "        5.27756750e-01, -9.81365785e-01,  4.04097077e-02, -8.30106512e-01,\n",
       "        2.13246825e-01, -6.50235851e-01,  2.06030634e-01, -8.93924991e-01,\n",
       "        5.71060874e-02, -3.06871762e-01, -1.26080233e-01, -3.85919952e-01,\n",
       "       -1.43692717e-01, -3.97624782e-01, -1.95066384e-01, -1.39179842e-01,\n",
       "       -4.30672478e-01, -2.10428206e-01, -6.92225091e-01, -3.41818824e-01])"
      ]
     },
     "execution_count": 79,
     "metadata": {},
     "output_type": "execute_result"
    }
   ],
   "source": [
    "df.feature.mean()"
   ]
  },
  {
   "cell_type": "code",
   "execution_count": 107,
   "metadata": {},
   "outputs": [
    {
     "data": {
      "text/plain": [
       "numpy.ndarray"
      ]
     },
     "execution_count": 107,
     "metadata": {},
     "output_type": "execute_result"
    }
   ],
   "source": [
    "type(df.feature.mean())"
   ]
  },
  {
   "cell_type": "code",
   "execution_count": 99,
   "metadata": {},
   "outputs": [],
   "source": [
    "from sklearn.preprocessing import LabelEncoder\n",
    "from keras.models import Sequential\n",
    "from keras.layers import Dense, Dropout, Activation\n",
    "from keras.utils import np_utils\n",
    "\n",
    "X = np.array(df.feature.tolist())\n",
    "Y = np.array(df.categoria.tolist())\n",
    "\n",
    "lb = LabelEncoder()\n",
    "\n",
    "y = np_utils.to_categorical(lb.fit_transform(Y))\n",
    "\n",
    "\n",
    "num_labels = y.shape[1]\n",
    "filter_size = 2\n",
    "\n",
    "# build model\n",
    "model = Sequential()\n",
    "\n",
    "model.add(Dense(256, input_shape=(N_FCC,)))\n",
    "model.add(Activation('relu'))\n",
    "model.add(Dropout(0.5))\n",
    "\n",
    "model.add(Dense(256))\n",
    "model.add(Activation('relu'))\n",
    "model.add(Dropout(0.5))\n",
    "\n",
    "model.add(Dense(num_labels))\n",
    "model.add(Activation('softmax'))\n",
    "\n",
    "model.compile(loss='categorical_crossentropy', metrics=['accuracy'], optimizer='adam')"
   ]
  },
  {
   "cell_type": "code",
   "execution_count": 100,
   "metadata": {},
   "outputs": [
    {
     "name": "stdout",
     "output_type": "stream",
     "text": [
      "Epoch 1/20\n",
      "547/547 [==============================] - 1s 1ms/step - loss: 10.7633 - acc: 0.2706\n",
      "Epoch 2/20\n",
      "547/547 [==============================] - 0s 64us/step - loss: 10.0502 - acc: 0.3711\n",
      "Epoch 3/20\n",
      "547/547 [==============================] - 0s 70us/step - loss: 10.0096 - acc: 0.3547\n",
      "Epoch 4/20\n",
      "547/547 [==============================] - 0s 64us/step - loss: 9.7110 - acc: 0.3748\n",
      "Epoch 5/20\n",
      "547/547 [==============================] - 0s 66us/step - loss: 9.4427 - acc: 0.3839\n",
      "Epoch 6/20\n",
      "547/547 [==============================] - 0s 68us/step - loss: 8.9992 - acc: 0.4022\n",
      "Epoch 7/20\n",
      "547/547 [==============================] - 0s 66us/step - loss: 8.7169 - acc: 0.4095\n",
      "Epoch 8/20\n",
      "547/547 [==============================] - 0s 68us/step - loss: 8.2821 - acc: 0.4406\n",
      "Epoch 9/20\n",
      "547/547 [==============================] - 0s 68us/step - loss: 7.7050 - acc: 0.4442\n",
      "Epoch 10/20\n",
      "547/547 [==============================] - 0s 66us/step - loss: 7.5068 - acc: 0.4753\n",
      "Epoch 11/20\n",
      "547/547 [==============================] - 0s 66us/step - loss: 6.6507 - acc: 0.4881\n",
      "Epoch 12/20\n",
      "547/547 [==============================] - 0s 70us/step - loss: 5.6485 - acc: 0.4790\n",
      "Epoch 13/20\n",
      "547/547 [==============================] - 0s 66us/step - loss: 4.3337 - acc: 0.5064\n",
      "Epoch 14/20\n",
      "547/547 [==============================] - 0s 66us/step - loss: 2.9432 - acc: 0.5722\n",
      "Epoch 15/20\n",
      "547/547 [==============================] - 0s 68us/step - loss: 2.0018 - acc: 0.6271\n",
      "Epoch 16/20\n",
      "547/547 [==============================] - 0s 81us/step - loss: 1.6207 - acc: 0.6545\n",
      "Epoch 17/20\n",
      "547/547 [==============================] - 0s 82us/step - loss: 1.4663 - acc: 0.6856\n",
      "Epoch 18/20\n",
      "547/547 [==============================] - 0s 95us/step - loss: 1.3268 - acc: 0.6984\n",
      "Epoch 19/20\n",
      "547/547 [==============================] - 0s 77us/step - loss: 1.1265 - acc: 0.7294\n",
      "Epoch 20/20\n",
      "547/547 [==============================] - 0s 79us/step - loss: 1.0468 - acc: 0.7203\n"
     ]
    },
    {
     "data": {
      "text/plain": [
       "<keras.callbacks.History at 0x19cb9b024a8>"
      ]
     },
     "execution_count": 100,
     "metadata": {},
     "output_type": "execute_result"
    }
   ],
   "source": [
    "model.fit(X, y, batch_size=32, epochs=20)"
   ]
  },
  {
   "cell_type": "code",
   "execution_count": 101,
   "metadata": {},
   "outputs": [
    {
     "name": "stdout",
     "output_type": "stream",
     "text": [
      "547/547 [==============================] - 0s 256us/step\n"
     ]
    },
    {
     "data": {
      "text/plain": [
       "[0.39211552385819676, 0.9287020110778879]"
      ]
     },
     "execution_count": 101,
     "metadata": {},
     "output_type": "execute_result"
    }
   ],
   "source": [
    "model.evaluate(X, y)"
   ]
  },
  {
   "cell_type": "code",
   "execution_count": 83,
   "metadata": {},
   "outputs": [],
   "source": [
    "predictes_Y = model.predict_classes(X)"
   ]
  },
  {
   "cell_type": "code",
   "execution_count": 84,
   "metadata": {},
   "outputs": [],
   "source": [
    "predictes_Y_class = lb.inverse_transform(predictes_Y)"
   ]
  },
  {
   "cell_type": "code",
   "execution_count": 85,
   "metadata": {},
   "outputs": [],
   "source": [
    "df['predicted'] = predictes_Y_class"
   ]
  },
  {
   "cell_type": "code",
   "execution_count": 86,
   "metadata": {},
   "outputs": [
    {
     "data": {
      "text/html": [
       "<div>\n",
       "<style scoped>\n",
       "    .dataframe tbody tr th:only-of-type {\n",
       "        vertical-align: middle;\n",
       "    }\n",
       "\n",
       "    .dataframe tbody tr th {\n",
       "        vertical-align: top;\n",
       "    }\n",
       "\n",
       "    .dataframe thead th {\n",
       "        text-align: right;\n",
       "    }\n",
       "</style>\n",
       "<table border=\"1\" class=\"dataframe\">\n",
       "  <thead>\n",
       "    <tr style=\"text-align: right;\">\n",
       "      <th></th>\n",
       "      <th>audio</th>\n",
       "      <th>categoria</th>\n",
       "      <th>feature</th>\n",
       "      <th>predicted</th>\n",
       "      <th>ok</th>\n",
       "    </tr>\n",
       "  </thead>\n",
       "  <tbody>\n",
       "    <tr>\n",
       "      <th>0</th>\n",
       "      <td>BITEL_audio1_1.wav</td>\n",
       "      <td>BITEL</td>\n",
       "      <td>[-106.61393387377534, 95.37412180539266, -21.3...</td>\n",
       "      <td>BITEL</td>\n",
       "      <td>True</td>\n",
       "    </tr>\n",
       "    <tr>\n",
       "      <th>1</th>\n",
       "      <td>BITEL_audio1_2.wav</td>\n",
       "      <td>BITEL</td>\n",
       "      <td>[-109.58131618811088, 98.67697056184011, -15.6...</td>\n",
       "      <td>BITEL</td>\n",
       "      <td>True</td>\n",
       "    </tr>\n",
       "    <tr>\n",
       "      <th>2</th>\n",
       "      <td>BITEL_audio1_3.wav</td>\n",
       "      <td>BITEL</td>\n",
       "      <td>[-106.4785425144758, 94.28854740407253, -13.79...</td>\n",
       "      <td>BITEL</td>\n",
       "      <td>True</td>\n",
       "    </tr>\n",
       "    <tr>\n",
       "      <th>3</th>\n",
       "      <td>BITEL_audio2_1.wav</td>\n",
       "      <td>BITEL</td>\n",
       "      <td>[-112.08756151856767, 95.88410940638981, -15.6...</td>\n",
       "      <td>BITEL</td>\n",
       "      <td>True</td>\n",
       "    </tr>\n",
       "    <tr>\n",
       "      <th>4</th>\n",
       "      <td>BITEL_audio2_2.wav</td>\n",
       "      <td>BITEL</td>\n",
       "      <td>[-110.18037998963602, 92.20879629345895, -10.5...</td>\n",
       "      <td>BITEL</td>\n",
       "      <td>True</td>\n",
       "    </tr>\n",
       "  </tbody>\n",
       "</table>\n",
       "</div>"
      ],
      "text/plain": [
       "                audio categoria  \\\n",
       "0  BITEL_audio1_1.wav     BITEL   \n",
       "1  BITEL_audio1_2.wav     BITEL   \n",
       "2  BITEL_audio1_3.wav     BITEL   \n",
       "3  BITEL_audio2_1.wav     BITEL   \n",
       "4  BITEL_audio2_2.wav     BITEL   \n",
       "\n",
       "                                             feature predicted    ok  \n",
       "0  [-106.61393387377534, 95.37412180539266, -21.3...     BITEL  True  \n",
       "1  [-109.58131618811088, 98.67697056184011, -15.6...     BITEL  True  \n",
       "2  [-106.4785425144758, 94.28854740407253, -13.79...     BITEL  True  \n",
       "3  [-112.08756151856767, 95.88410940638981, -15.6...     BITEL  True  \n",
       "4  [-110.18037998963602, 92.20879629345895, -10.5...     BITEL  True  "
      ]
     },
     "execution_count": 86,
     "metadata": {},
     "output_type": "execute_result"
    }
   ],
   "source": [
    "df.head()"
   ]
  },
  {
   "cell_type": "code",
   "execution_count": 87,
   "metadata": {},
   "outputs": [],
   "source": [
    "df['ok'] = (df['categoria']==df['predicted'])"
   ]
  },
  {
   "cell_type": "code",
   "execution_count": 88,
   "metadata": {},
   "outputs": [
    {
     "data": {
      "text/html": [
       "<div>\n",
       "<style scoped>\n",
       "    .dataframe tbody tr th:only-of-type {\n",
       "        vertical-align: middle;\n",
       "    }\n",
       "\n",
       "    .dataframe tbody tr th {\n",
       "        vertical-align: top;\n",
       "    }\n",
       "\n",
       "    .dataframe thead th {\n",
       "        text-align: right;\n",
       "    }\n",
       "</style>\n",
       "<table border=\"1\" class=\"dataframe\">\n",
       "  <thead>\n",
       "    <tr style=\"text-align: right;\">\n",
       "      <th></th>\n",
       "      <th>audio</th>\n",
       "      <th>categoria</th>\n",
       "      <th>feature</th>\n",
       "      <th>predicted</th>\n",
       "      <th>ok</th>\n",
       "    </tr>\n",
       "  </thead>\n",
       "  <tbody>\n",
       "    <tr>\n",
       "      <th>0</th>\n",
       "      <td>BITEL_audio1_1.wav</td>\n",
       "      <td>BITEL</td>\n",
       "      <td>[-106.61393387377534, 95.37412180539266, -21.3...</td>\n",
       "      <td>BITEL</td>\n",
       "      <td>True</td>\n",
       "    </tr>\n",
       "    <tr>\n",
       "      <th>1</th>\n",
       "      <td>BITEL_audio1_2.wav</td>\n",
       "      <td>BITEL</td>\n",
       "      <td>[-109.58131618811088, 98.67697056184011, -15.6...</td>\n",
       "      <td>BITEL</td>\n",
       "      <td>True</td>\n",
       "    </tr>\n",
       "    <tr>\n",
       "      <th>2</th>\n",
       "      <td>BITEL_audio1_3.wav</td>\n",
       "      <td>BITEL</td>\n",
       "      <td>[-106.4785425144758, 94.28854740407253, -13.79...</td>\n",
       "      <td>BITEL</td>\n",
       "      <td>True</td>\n",
       "    </tr>\n",
       "    <tr>\n",
       "      <th>3</th>\n",
       "      <td>BITEL_audio2_1.wav</td>\n",
       "      <td>BITEL</td>\n",
       "      <td>[-112.08756151856767, 95.88410940638981, -15.6...</td>\n",
       "      <td>BITEL</td>\n",
       "      <td>True</td>\n",
       "    </tr>\n",
       "    <tr>\n",
       "      <th>4</th>\n",
       "      <td>BITEL_audio2_2.wav</td>\n",
       "      <td>BITEL</td>\n",
       "      <td>[-110.18037998963602, 92.20879629345895, -10.5...</td>\n",
       "      <td>BITEL</td>\n",
       "      <td>True</td>\n",
       "    </tr>\n",
       "  </tbody>\n",
       "</table>\n",
       "</div>"
      ],
      "text/plain": [
       "                audio categoria  \\\n",
       "0  BITEL_audio1_1.wav     BITEL   \n",
       "1  BITEL_audio1_2.wav     BITEL   \n",
       "2  BITEL_audio1_3.wav     BITEL   \n",
       "3  BITEL_audio2_1.wav     BITEL   \n",
       "4  BITEL_audio2_2.wav     BITEL   \n",
       "\n",
       "                                             feature predicted    ok  \n",
       "0  [-106.61393387377534, 95.37412180539266, -21.3...     BITEL  True  \n",
       "1  [-109.58131618811088, 98.67697056184011, -15.6...     BITEL  True  \n",
       "2  [-106.4785425144758, 94.28854740407253, -13.79...     BITEL  True  \n",
       "3  [-112.08756151856767, 95.88410940638981, -15.6...     BITEL  True  \n",
       "4  [-110.18037998963602, 92.20879629345895, -10.5...     BITEL  True  "
      ]
     },
     "execution_count": 88,
     "metadata": {},
     "output_type": "execute_result"
    }
   ],
   "source": [
    "df.head()"
   ]
  },
  {
   "cell_type": "code",
   "execution_count": 89,
   "metadata": {},
   "outputs": [
    {
     "data": {
      "text/plain": [
       "0.9396709323583181"
      ]
     },
     "execution_count": 89,
     "metadata": {},
     "output_type": "execute_result"
    }
   ],
   "source": [
    "df['ok'].mean()"
   ]
  },
  {
   "cell_type": "code",
   "execution_count": 90,
   "metadata": {},
   "outputs": [],
   "source": [
    "dfoutput = df.drop(columns=['feature'])"
   ]
  },
  {
   "cell_type": "code",
   "execution_count": 91,
   "metadata": {},
   "outputs": [],
   "source": [
    "dfoutput.to_csv(\"D:/UNI/IA/RadioAnalyzer/audios/out.csv\", index=False)"
   ]
  },
  {
   "cell_type": "code",
   "execution_count": 109,
   "metadata": {},
   "outputs": [],
   "source": [
    "#######SAVING MODEL######\n",
    "model_json = model.to_json()\n",
    "with open(\"D:/UNI/IA/RadioAnalyzer/radioAnalyzerBackend/deeplearning/model.json\",'w') as json_file:\n",
    "    json_file.write(model_json)\n",
    "model.save_weights(\"D:/UNI/IA/RadioAnalyzer/radioAnalyzerBackend/deeplearning/model.h5\")\n",
    "##encoder\n",
    "np.save(\"D:/UNI/IA/RadioAnalyzer/radioAnalyzerBackend/deeplearning/classes.npy\", lb.classes_)"
   ]
  },
  {
   "cell_type": "code",
   "execution_count": 105,
   "metadata": {},
   "outputs": [
    {
     "name": "stdout",
     "output_type": "stream",
     "text": [
      "547/547 [==============================] - 0s 506us/step\n",
      "92.87020110778879\n"
     ]
    }
   ],
   "source": [
    "from keras.models import model_from_json\n",
    "####OPENING MODEL####\n",
    "json_file = open(\"D:/UNI/IA/RadioAnalyzer/radioAnalyzerBackend/deeplearning/model.json\",'r')\n",
    "loaded_model_jon = json_file.read()\n",
    "json_file.close()\n",
    "loaded_model = model_from_json(loaded_model_jon)\n",
    "\n",
    "loaded_model.load_weights(\"D:/UNI/IA/RadioAnalyzer/radioAnalyzerBackend/deeplearning/model.h5\")\n",
    "\n",
    "##evalundo##\n",
    "loaded_model.compile(loss='categorical_crossentropy', metrics=['accuracy'], optimizer='adam')\n",
    "score = loaded_model.evaluate(X,y)\n",
    "print(score[1]*100)"
   ]
  },
  {
   "cell_type": "code",
   "execution_count": null,
   "metadata": {},
   "outputs": [],
   "source": []
  }
 ],
 "metadata": {
  "kernelspec": {
   "display_name": "Python 3",
   "language": "python",
   "name": "python3"
  },
  "language_info": {
   "codemirror_mode": {
    "name": "ipython",
    "version": 3
   },
   "file_extension": ".py",
   "mimetype": "text/x-python",
   "name": "python",
   "nbconvert_exporter": "python",
   "pygments_lexer": "ipython3",
   "version": "3.7.3"
  }
 },
 "nbformat": 4,
 "nbformat_minor": 2
}
