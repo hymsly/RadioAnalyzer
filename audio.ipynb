{
 "cells": [
  {
   "cell_type": "code",
   "execution_count": 1,
   "metadata": {},
   "outputs": [],
   "source": [
    "import numpy as np\n",
    "import pandas as pd\n",
    "import librosa\n",
    "import librosa.display\n",
    "import matplotlib.pyplot as plt"
   ]
  },
  {
   "cell_type": "code",
   "execution_count": 31,
   "metadata": {},
   "outputs": [],
   "source": [
    "df = pd.read_excel('D:/UNI/IA/RadioAnalyzer/audios/data_2.xlsx')"
   ]
  },
  {
   "cell_type": "code",
   "execution_count": 32,
   "metadata": {},
   "outputs": [
    {
     "data": {
      "text/html": [
       "<div>\n",
       "<style scoped>\n",
       "    .dataframe tbody tr th:only-of-type {\n",
       "        vertical-align: middle;\n",
       "    }\n",
       "\n",
       "    .dataframe tbody tr th {\n",
       "        vertical-align: top;\n",
       "    }\n",
       "\n",
       "    .dataframe thead th {\n",
       "        text-align: right;\n",
       "    }\n",
       "</style>\n",
       "<table border=\"1\" class=\"dataframe\">\n",
       "  <thead>\n",
       "    <tr style=\"text-align: right;\">\n",
       "      <th></th>\n",
       "      <th>audio</th>\n",
       "      <th>categoria</th>\n",
       "    </tr>\n",
       "  </thead>\n",
       "  <tbody>\n",
       "    <tr>\n",
       "      <th>0</th>\n",
       "      <td>BITEL_audio32_1</td>\n",
       "      <td>BITEL</td>\n",
       "    </tr>\n",
       "    <tr>\n",
       "      <th>1</th>\n",
       "      <td>BITEL_audio32_2</td>\n",
       "      <td>BITEL</td>\n",
       "    </tr>\n",
       "    <tr>\n",
       "      <th>2</th>\n",
       "      <td>BITEL_audio32_3</td>\n",
       "      <td>BITEL</td>\n",
       "    </tr>\n",
       "    <tr>\n",
       "      <th>3</th>\n",
       "      <td>BITEL_audio32_4</td>\n",
       "      <td>BITEL</td>\n",
       "    </tr>\n",
       "    <tr>\n",
       "      <th>4</th>\n",
       "      <td>BITEL_audio32_5</td>\n",
       "      <td>BITEL</td>\n",
       "    </tr>\n",
       "  </tbody>\n",
       "</table>\n",
       "</div>"
      ],
      "text/plain": [
       "             audio categoria\n",
       "0  BITEL_audio32_1     BITEL\n",
       "1  BITEL_audio32_2     BITEL\n",
       "2  BITEL_audio32_3     BITEL\n",
       "3  BITEL_audio32_4     BITEL\n",
       "4  BITEL_audio32_5     BITEL"
      ]
     },
     "execution_count": 32,
     "metadata": {},
     "output_type": "execute_result"
    }
   ],
   "source": [
    "df.head()"
   ]
  },
  {
   "cell_type": "code",
   "execution_count": 33,
   "metadata": {},
   "outputs": [],
   "source": [
    "def parser(row):\n",
    "    file_name = 'D:/UNI/IA/RadioAnalyzer/audios/data/'+str(row.audio)+'.wav'\n",
    "    try:\n",
    "        X, sample_rate = librosa.load(file_name, res_type='kaiser_fast')\n",
    "        mfccs = np.mean(librosa.feature.mfcc(y=X, sr=sample_rate, n_mfcc=50).T,axis=0) \n",
    "    except Exception as e:\n",
    "        print(\"Error encountered while parsing file: \", e)\n",
    "        return None\n",
    " \n",
    "    feature = mfccs\n",
    "    return feature\n",
    "\n",
    "df['feature'] = df.apply(lambda row:parser(row),axis=1)"
   ]
  },
  {
   "cell_type": "code",
   "execution_count": 34,
   "metadata": {},
   "outputs": [
    {
     "data": {
      "text/html": [
       "<div>\n",
       "<style scoped>\n",
       "    .dataframe tbody tr th:only-of-type {\n",
       "        vertical-align: middle;\n",
       "    }\n",
       "\n",
       "    .dataframe tbody tr th {\n",
       "        vertical-align: top;\n",
       "    }\n",
       "\n",
       "    .dataframe thead th {\n",
       "        text-align: right;\n",
       "    }\n",
       "</style>\n",
       "<table border=\"1\" class=\"dataframe\">\n",
       "  <thead>\n",
       "    <tr style=\"text-align: right;\">\n",
       "      <th></th>\n",
       "      <th>audio</th>\n",
       "      <th>categoria</th>\n",
       "      <th>feature</th>\n",
       "    </tr>\n",
       "  </thead>\n",
       "  <tbody>\n",
       "    <tr>\n",
       "      <th>0</th>\n",
       "      <td>BITEL_audio32_1</td>\n",
       "      <td>BITEL</td>\n",
       "      <td>[-189.7812790242206, 101.49177428657258, -23.8...</td>\n",
       "    </tr>\n",
       "    <tr>\n",
       "      <th>1</th>\n",
       "      <td>BITEL_audio32_2</td>\n",
       "      <td>BITEL</td>\n",
       "      <td>[-175.37935207679197, 73.70655624235172, -35.8...</td>\n",
       "    </tr>\n",
       "    <tr>\n",
       "      <th>2</th>\n",
       "      <td>BITEL_audio32_3</td>\n",
       "      <td>BITEL</td>\n",
       "      <td>[-182.69068488737872, 105.52600862618615, -22....</td>\n",
       "    </tr>\n",
       "    <tr>\n",
       "      <th>3</th>\n",
       "      <td>BITEL_audio32_4</td>\n",
       "      <td>BITEL</td>\n",
       "      <td>[-164.3735209101462, 87.70550743947643, -28.29...</td>\n",
       "    </tr>\n",
       "    <tr>\n",
       "      <th>4</th>\n",
       "      <td>BITEL_audio32_5</td>\n",
       "      <td>BITEL</td>\n",
       "      <td>[-134.1047263148321, 100.68159882374813, -24.3...</td>\n",
       "    </tr>\n",
       "  </tbody>\n",
       "</table>\n",
       "</div>"
      ],
      "text/plain": [
       "             audio categoria  \\\n",
       "0  BITEL_audio32_1     BITEL   \n",
       "1  BITEL_audio32_2     BITEL   \n",
       "2  BITEL_audio32_3     BITEL   \n",
       "3  BITEL_audio32_4     BITEL   \n",
       "4  BITEL_audio32_5     BITEL   \n",
       "\n",
       "                                             feature  \n",
       "0  [-189.7812790242206, 101.49177428657258, -23.8...  \n",
       "1  [-175.37935207679197, 73.70655624235172, -35.8...  \n",
       "2  [-182.69068488737872, 105.52600862618615, -22....  \n",
       "3  [-164.3735209101462, 87.70550743947643, -28.29...  \n",
       "4  [-134.1047263148321, 100.68159882374813, -24.3...  "
      ]
     },
     "execution_count": 34,
     "metadata": {},
     "output_type": "execute_result"
    }
   ],
   "source": [
    "df.head()"
   ]
  },
  {
   "cell_type": "code",
   "execution_count": 35,
   "metadata": {},
   "outputs": [
    {
     "data": {
      "text/plain": [
       "array([-141.61136486,   87.83948972,  -11.3172642 ,   36.91793859,\n",
       "          6.02997049,   13.65196602,  -13.22049911,    9.32787953,\n",
       "        -19.72403865,    7.01521117,  -11.40420601,    4.44072279,\n",
       "         -9.29554603,    4.62122163,   -6.78208514,    4.54042141,\n",
       "         -9.96980369,    5.03020277,   -8.29380947,    3.1613422 ,\n",
       "         -7.63971253,    5.13898151,   -6.50189201,    4.91267608,\n",
       "         -4.48113735,    2.99724316,   -3.7986776 ,    2.94617484,\n",
       "         -3.10603016,    3.04356587,   -3.63088593,    3.29036947,\n",
       "         -3.24486024,    2.62842151,   -2.14494122,    1.44768204,\n",
       "         -1.18395566,    1.02736191,   -1.19728629,    0.5235764 ,\n",
       "         -1.53232579,    1.21489912,   -0.5910588 ,    0.3081048 ,\n",
       "         -0.25607287,   -0.34431625,    0.2881648 ,   -0.27160495,\n",
       "          0.75587062,   -1.56005132])"
      ]
     },
     "execution_count": 35,
     "metadata": {},
     "output_type": "execute_result"
    }
   ],
   "source": [
    "df.feature.mean()"
   ]
  },
  {
   "cell_type": "code",
   "execution_count": 36,
   "metadata": {},
   "outputs": [],
   "source": [
    "from sklearn.preprocessing import LabelEncoder\n",
    "from keras.models import Sequential\n",
    "from keras.layers import Dense, Dropout, Activation\n",
    "from keras.utils import np_utils\n",
    "\n",
    "X = np.array(df.feature.tolist())\n",
    "Y = np.array(df.categoria.tolist())\n",
    "\n",
    "lb = LabelEncoder()\n",
    "\n",
    "y = np_utils.to_categorical(lb.fit_transform(Y))\n",
    "\n",
    "\n",
    "num_labels = y.shape[1]\n",
    "filter_size = 2\n",
    "\n",
    "# build model\n",
    "model = Sequential()\n",
    "\n",
    "model.add(Dense(256, input_shape=(50,)))\n",
    "model.add(Activation('relu'))\n",
    "model.add(Dropout(0.5))\n",
    "\n",
    "model.add(Dense(256))\n",
    "model.add(Activation('relu'))\n",
    "model.add(Dropout(0.5))\n",
    "\n",
    "model.add(Dense(num_labels))\n",
    "model.add(Activation('softmax'))\n",
    "\n",
    "model.compile(loss='categorical_crossentropy', metrics=['accuracy'], optimizer='adam')"
   ]
  },
  {
   "cell_type": "code",
   "execution_count": 37,
   "metadata": {},
   "outputs": [
    {
     "name": "stdout",
     "output_type": "stream",
     "text": [
      "Epoch 1/20\n",
      "139/139 [==============================] - 0s 3ms/step - loss: 12.6295 - acc: 0.0719\n",
      "Epoch 2/20\n",
      "139/139 [==============================] - 0s 79us/step - loss: 10.8623 - acc: 0.2230\n",
      "Epoch 3/20\n",
      "139/139 [==============================] - 0s 72us/step - loss: 11.8378 - acc: 0.1511\n",
      "Epoch 4/20\n",
      "139/139 [==============================] - 0s 79us/step - loss: 11.4302 - acc: 0.1727\n",
      "Epoch 5/20\n",
      "139/139 [==============================] - 0s 87us/step - loss: 10.9441 - acc: 0.1799\n",
      "Epoch 6/20\n",
      "139/139 [==============================] - 0s 72us/step - loss: 11.3387 - acc: 0.2302\n",
      "Epoch 7/20\n",
      "139/139 [==============================] - 0s 79us/step - loss: 9.7096 - acc: 0.2662\n",
      "Epoch 8/20\n",
      "139/139 [==============================] - 0s 87us/step - loss: 9.4293 - acc: 0.3309\n",
      "Epoch 9/20\n",
      "139/139 [==============================] - 0s 79us/step - loss: 10.2835 - acc: 0.2302\n",
      "Epoch 10/20\n",
      "139/139 [==============================] - 0s 65us/step - loss: 9.3441 - acc: 0.3022\n",
      "Epoch 11/20\n",
      "139/139 [==============================] - 0s 79us/step - loss: 8.9132 - acc: 0.3094\n",
      "Epoch 12/20\n",
      "139/139 [==============================] - 0s 79us/step - loss: 8.6677 - acc: 0.3381\n",
      "Epoch 13/20\n",
      "139/139 [==============================] - 0s 79us/step - loss: 8.2235 - acc: 0.2878\n",
      "Epoch 14/20\n",
      "139/139 [==============================] - 0s 72us/step - loss: 7.4627 - acc: 0.4101\n",
      "Epoch 15/20\n",
      "139/139 [==============================] - 0s 87us/step - loss: 7.5277 - acc: 0.3597\n",
      "Epoch 16/20\n",
      "139/139 [==============================] - 0s 79us/step - loss: 6.9614 - acc: 0.4101\n",
      "Epoch 17/20\n",
      "139/139 [==============================] - 0s 72us/step - loss: 7.1027 - acc: 0.3957\n",
      "Epoch 18/20\n",
      "139/139 [==============================] - 0s 79us/step - loss: 6.4311 - acc: 0.4820\n",
      "Epoch 19/20\n",
      "139/139 [==============================] - 0s 79us/step - loss: 5.8956 - acc: 0.4604\n",
      "Epoch 20/20\n",
      "139/139 [==============================] - 0s 79us/step - loss: 6.3675 - acc: 0.4604\n"
     ]
    },
    {
     "data": {
      "text/plain": [
       "<keras.callbacks.History at 0x180fa0dcf28>"
      ]
     },
     "execution_count": 37,
     "metadata": {},
     "output_type": "execute_result"
    }
   ],
   "source": [
    "model.fit(X, y, batch_size=32, epochs=20)"
   ]
  },
  {
   "cell_type": "code",
   "execution_count": 38,
   "metadata": {},
   "outputs": [
    {
     "name": "stdout",
     "output_type": "stream",
     "text": [
      "139/139 [==============================] - 0s 613us/step\n"
     ]
    },
    {
     "data": {
      "text/plain": [
       "[2.707785169503328, 0.7410071942446043]"
      ]
     },
     "execution_count": 38,
     "metadata": {},
     "output_type": "execute_result"
    }
   ],
   "source": [
    "model.evaluate(X, y)"
   ]
  },
  {
   "cell_type": "code",
   "execution_count": 39,
   "metadata": {},
   "outputs": [],
   "source": [
    "predictes_Y = model.predict_classes(X)"
   ]
  },
  {
   "cell_type": "code",
   "execution_count": 40,
   "metadata": {},
   "outputs": [],
   "source": [
    "predictes_Y_class = lb.inverse_transform(predictes_Y)"
   ]
  },
  {
   "cell_type": "code",
   "execution_count": 41,
   "metadata": {},
   "outputs": [],
   "source": [
    "df['predicted'] = predictes_Y_class"
   ]
  },
  {
   "cell_type": "code",
   "execution_count": 42,
   "metadata": {},
   "outputs": [
    {
     "data": {
      "text/html": [
       "<div>\n",
       "<style scoped>\n",
       "    .dataframe tbody tr th:only-of-type {\n",
       "        vertical-align: middle;\n",
       "    }\n",
       "\n",
       "    .dataframe tbody tr th {\n",
       "        vertical-align: top;\n",
       "    }\n",
       "\n",
       "    .dataframe thead th {\n",
       "        text-align: right;\n",
       "    }\n",
       "</style>\n",
       "<table border=\"1\" class=\"dataframe\">\n",
       "  <thead>\n",
       "    <tr style=\"text-align: right;\">\n",
       "      <th></th>\n",
       "      <th>audio</th>\n",
       "      <th>categoria</th>\n",
       "      <th>feature</th>\n",
       "      <th>predicted</th>\n",
       "    </tr>\n",
       "  </thead>\n",
       "  <tbody>\n",
       "    <tr>\n",
       "      <th>0</th>\n",
       "      <td>BITEL_audio32_1</td>\n",
       "      <td>BITEL</td>\n",
       "      <td>[-189.7812790242206, 101.49177428657258, -23.8...</td>\n",
       "      <td>MTC</td>\n",
       "    </tr>\n",
       "    <tr>\n",
       "      <th>1</th>\n",
       "      <td>BITEL_audio32_2</td>\n",
       "      <td>BITEL</td>\n",
       "      <td>[-175.37935207679197, 73.70655624235172, -35.8...</td>\n",
       "      <td>MTC</td>\n",
       "    </tr>\n",
       "    <tr>\n",
       "      <th>2</th>\n",
       "      <td>BITEL_audio32_3</td>\n",
       "      <td>BITEL</td>\n",
       "      <td>[-182.69068488737872, 105.52600862618615, -22....</td>\n",
       "      <td>MTC</td>\n",
       "    </tr>\n",
       "    <tr>\n",
       "      <th>3</th>\n",
       "      <td>BITEL_audio32_4</td>\n",
       "      <td>BITEL</td>\n",
       "      <td>[-164.3735209101462, 87.70550743947643, -28.29...</td>\n",
       "      <td>MTC</td>\n",
       "    </tr>\n",
       "    <tr>\n",
       "      <th>4</th>\n",
       "      <td>BITEL_audio32_5</td>\n",
       "      <td>BITEL</td>\n",
       "      <td>[-134.1047263148321, 100.68159882374813, -24.3...</td>\n",
       "      <td>MTC</td>\n",
       "    </tr>\n",
       "  </tbody>\n",
       "</table>\n",
       "</div>"
      ],
      "text/plain": [
       "             audio categoria  \\\n",
       "0  BITEL_audio32_1     BITEL   \n",
       "1  BITEL_audio32_2     BITEL   \n",
       "2  BITEL_audio32_3     BITEL   \n",
       "3  BITEL_audio32_4     BITEL   \n",
       "4  BITEL_audio32_5     BITEL   \n",
       "\n",
       "                                             feature predicted  \n",
       "0  [-189.7812790242206, 101.49177428657258, -23.8...       MTC  \n",
       "1  [-175.37935207679197, 73.70655624235172, -35.8...       MTC  \n",
       "2  [-182.69068488737872, 105.52600862618615, -22....       MTC  \n",
       "3  [-164.3735209101462, 87.70550743947643, -28.29...       MTC  \n",
       "4  [-134.1047263148321, 100.68159882374813, -24.3...       MTC  "
      ]
     },
     "execution_count": 42,
     "metadata": {},
     "output_type": "execute_result"
    }
   ],
   "source": [
    "df.head()"
   ]
  },
  {
   "cell_type": "code",
   "execution_count": 26,
   "metadata": {},
   "outputs": [],
   "source": [
    "df.to_csv(\"D:/UNI/IA/RadioAnalyzer/audios/out2.csv\", index=False)"
   ]
  },
  {
   "cell_type": "code",
   "execution_count": 43,
   "metadata": {},
   "outputs": [],
   "source": [
    "df['ok'] = (df['categoria']==df['predicted'])"
   ]
  },
  {
   "cell_type": "code",
   "execution_count": 44,
   "metadata": {},
   "outputs": [
    {
     "data": {
      "text/html": [
       "<div>\n",
       "<style scoped>\n",
       "    .dataframe tbody tr th:only-of-type {\n",
       "        vertical-align: middle;\n",
       "    }\n",
       "\n",
       "    .dataframe tbody tr th {\n",
       "        vertical-align: top;\n",
       "    }\n",
       "\n",
       "    .dataframe thead th {\n",
       "        text-align: right;\n",
       "    }\n",
       "</style>\n",
       "<table border=\"1\" class=\"dataframe\">\n",
       "  <thead>\n",
       "    <tr style=\"text-align: right;\">\n",
       "      <th></th>\n",
       "      <th>audio</th>\n",
       "      <th>categoria</th>\n",
       "      <th>feature</th>\n",
       "      <th>predicted</th>\n",
       "      <th>ok</th>\n",
       "    </tr>\n",
       "  </thead>\n",
       "  <tbody>\n",
       "    <tr>\n",
       "      <th>0</th>\n",
       "      <td>BITEL_audio32_1</td>\n",
       "      <td>BITEL</td>\n",
       "      <td>[-189.7812790242206, 101.49177428657258, -23.8...</td>\n",
       "      <td>MTC</td>\n",
       "      <td>False</td>\n",
       "    </tr>\n",
       "    <tr>\n",
       "      <th>1</th>\n",
       "      <td>BITEL_audio32_2</td>\n",
       "      <td>BITEL</td>\n",
       "      <td>[-175.37935207679197, 73.70655624235172, -35.8...</td>\n",
       "      <td>MTC</td>\n",
       "      <td>False</td>\n",
       "    </tr>\n",
       "    <tr>\n",
       "      <th>2</th>\n",
       "      <td>BITEL_audio32_3</td>\n",
       "      <td>BITEL</td>\n",
       "      <td>[-182.69068488737872, 105.52600862618615, -22....</td>\n",
       "      <td>MTC</td>\n",
       "      <td>False</td>\n",
       "    </tr>\n",
       "    <tr>\n",
       "      <th>3</th>\n",
       "      <td>BITEL_audio32_4</td>\n",
       "      <td>BITEL</td>\n",
       "      <td>[-164.3735209101462, 87.70550743947643, -28.29...</td>\n",
       "      <td>MTC</td>\n",
       "      <td>False</td>\n",
       "    </tr>\n",
       "    <tr>\n",
       "      <th>4</th>\n",
       "      <td>BITEL_audio32_5</td>\n",
       "      <td>BITEL</td>\n",
       "      <td>[-134.1047263148321, 100.68159882374813, -24.3...</td>\n",
       "      <td>MTC</td>\n",
       "      <td>False</td>\n",
       "    </tr>\n",
       "  </tbody>\n",
       "</table>\n",
       "</div>"
      ],
      "text/plain": [
       "             audio categoria  \\\n",
       "0  BITEL_audio32_1     BITEL   \n",
       "1  BITEL_audio32_2     BITEL   \n",
       "2  BITEL_audio32_3     BITEL   \n",
       "3  BITEL_audio32_4     BITEL   \n",
       "4  BITEL_audio32_5     BITEL   \n",
       "\n",
       "                                             feature predicted     ok  \n",
       "0  [-189.7812790242206, 101.49177428657258, -23.8...       MTC  False  \n",
       "1  [-175.37935207679197, 73.70655624235172, -35.8...       MTC  False  \n",
       "2  [-182.69068488737872, 105.52600862618615, -22....       MTC  False  \n",
       "3  [-164.3735209101462, 87.70550743947643, -28.29...       MTC  False  \n",
       "4  [-134.1047263148321, 100.68159882374813, -24.3...       MTC  False  "
      ]
     },
     "execution_count": 44,
     "metadata": {},
     "output_type": "execute_result"
    }
   ],
   "source": [
    "df.head()"
   ]
  },
  {
   "cell_type": "code",
   "execution_count": 45,
   "metadata": {},
   "outputs": [
    {
     "data": {
      "text/plain": [
       "0.7410071942446043"
      ]
     },
     "execution_count": 45,
     "metadata": {},
     "output_type": "execute_result"
    }
   ],
   "source": [
    "df['ok'].mean()"
   ]
  },
  {
   "cell_type": "code",
   "execution_count": 46,
   "metadata": {},
   "outputs": [],
   "source": [
    "dfoutput = df.drop(columns=['feature'])"
   ]
  },
  {
   "cell_type": "code",
   "execution_count": 47,
   "metadata": {},
   "outputs": [],
   "source": [
    "dfoutput.to_csv(\"D:/UNI/IA/RadioAnalyzer/audios/out.csv\", index=False)"
   ]
  },
  {
   "cell_type": "code",
   "execution_count": null,
   "metadata": {},
   "outputs": [],
   "source": []
  }
 ],
 "metadata": {
  "kernelspec": {
   "display_name": "Python 3",
   "language": "python",
   "name": "python3"
  },
  "language_info": {
   "codemirror_mode": {
    "name": "ipython",
    "version": 3
   },
   "file_extension": ".py",
   "mimetype": "text/x-python",
   "name": "python",
   "nbconvert_exporter": "python",
   "pygments_lexer": "ipython3",
   "version": "3.7.3"
  }
 },
 "nbformat": 4,
 "nbformat_minor": 2
}
