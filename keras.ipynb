{
 "cells": [
  {
   "cell_type": "code",
   "execution_count": 1,
   "metadata": {},
   "outputs": [],
   "source": [
    "import numpy as np\n",
    "import pandas as pd\n",
    "import librosa\n",
    "import librosa.display\n",
    "import matplotlib.pyplot as plt"
   ]
  },
  {
   "cell_type": "code",
   "execution_count": 2,
   "metadata": {},
   "outputs": [],
   "source": [
    "slogan1 ='D:/UNI/IA/RadioAnalyzer/radioAnalyzerBackend/audios/20190415210745-A-Slogan1.wav'\n",
    "slogan2 ='D:/UNI/IA/RadioAnalyzer/radioAnalyzerBackend/audios/20190415210745-A-Slogan2.wav'\n",
    "noslogan1 ='D:/UNI/IA/RadioAnalyzer/radioAnalyzerBackend/audios/20190415210745-A-Narracion.wav'\n",
    "\n",
    "\n",
    "def show(file):\n",
    "    #plt.figure(figsize=(10, 4))\n",
    "    data, sample_rate = librosa.core.load(file)\n",
    "    #librosa.display.waveplot(data, sr=sample_rate)\n",
    "    mfccs = np.mean(librosa.feature.mfcc(y=data, sr=sample_rate, n_mfcc=10).T,axis=0) \n",
    "    plt.plot(mfccs)"
   ]
  },
  {
   "cell_type": "code",
   "execution_count": 3,
   "metadata": {},
   "outputs": [],
   "source": [
    "df = pd.read_csv('D:/UNI/IA/RadioAnalyzer/train.csv')"
   ]
  },
  {
   "cell_type": "code",
   "execution_count": 4,
   "metadata": {},
   "outputs": [
    {
     "data": {
      "text/html": [
       "<div>\n",
       "<style scoped>\n",
       "    .dataframe tbody tr th:only-of-type {\n",
       "        vertical-align: middle;\n",
       "    }\n",
       "\n",
       "    .dataframe tbody tr th {\n",
       "        vertical-align: top;\n",
       "    }\n",
       "\n",
       "    .dataframe thead th {\n",
       "        text-align: right;\n",
       "    }\n",
       "</style>\n",
       "<table border=\"1\" class=\"dataframe\">\n",
       "  <thead>\n",
       "    <tr style=\"text-align: right;\">\n",
       "      <th></th>\n",
       "      <th>ID</th>\n",
       "      <th>Class</th>\n",
       "    </tr>\n",
       "  </thead>\n",
       "  <tbody>\n",
       "    <tr>\n",
       "      <th>0</th>\n",
       "      <td>0</td>\n",
       "      <td>siren</td>\n",
       "    </tr>\n",
       "    <tr>\n",
       "      <th>1</th>\n",
       "      <td>1</td>\n",
       "      <td>street_music</td>\n",
       "    </tr>\n",
       "    <tr>\n",
       "      <th>2</th>\n",
       "      <td>2</td>\n",
       "      <td>drilling</td>\n",
       "    </tr>\n",
       "    <tr>\n",
       "      <th>3</th>\n",
       "      <td>3</td>\n",
       "      <td>siren</td>\n",
       "    </tr>\n",
       "    <tr>\n",
       "      <th>4</th>\n",
       "      <td>4</td>\n",
       "      <td>dog_bark</td>\n",
       "    </tr>\n",
       "  </tbody>\n",
       "</table>\n",
       "</div>"
      ],
      "text/plain": [
       "   ID         Class\n",
       "0   0         siren\n",
       "1   1  street_music\n",
       "2   2      drilling\n",
       "3   3         siren\n",
       "4   4      dog_bark"
      ]
     },
     "execution_count": 4,
     "metadata": {},
     "output_type": "execute_result"
    }
   ],
   "source": [
    "df.head()"
   ]
  },
  {
   "cell_type": "code",
   "execution_count": 5,
   "metadata": {},
   "outputs": [],
   "source": [
    "train = df"
   ]
  },
  {
   "cell_type": "code",
   "execution_count": 6,
   "metadata": {},
   "outputs": [],
   "source": [
    "def parser(row):\n",
    "    file_name = 'D:/UNI/IA/RadioAnalyzer/train/'+str(row.ID)+'.wav'\n",
    "    try:\n",
    "        X, sample_rate = librosa.load(file_name, res_type='kaiser_fast')\n",
    "        mfccs = np.mean(librosa.feature.mfcc(y=X, sr=sample_rate, n_mfcc=100).T,axis=0) \n",
    "    except Exception as e:\n",
    "        print(\"Error encountered while parsing file: \", e)\n",
    "        return None\n",
    " \n",
    "    feature = mfccs\n",
    "    return feature\n",
    "\n",
    "train['feature'] = train.apply(lambda row:parser(row),axis=1)"
   ]
  },
  {
   "cell_type": "code",
   "execution_count": 7,
   "metadata": {},
   "outputs": [
    {
     "data": {
      "text/html": [
       "<div>\n",
       "<style scoped>\n",
       "    .dataframe tbody tr th:only-of-type {\n",
       "        vertical-align: middle;\n",
       "    }\n",
       "\n",
       "    .dataframe tbody tr th {\n",
       "        vertical-align: top;\n",
       "    }\n",
       "\n",
       "    .dataframe thead th {\n",
       "        text-align: right;\n",
       "    }\n",
       "</style>\n",
       "<table border=\"1\" class=\"dataframe\">\n",
       "  <thead>\n",
       "    <tr style=\"text-align: right;\">\n",
       "      <th></th>\n",
       "      <th>ID</th>\n",
       "      <th>Class</th>\n",
       "      <th>feature</th>\n",
       "    </tr>\n",
       "  </thead>\n",
       "  <tbody>\n",
       "    <tr>\n",
       "      <th>0</th>\n",
       "      <td>0</td>\n",
       "      <td>siren</td>\n",
       "      <td>[-82.12358939071989, 139.50591598130987, -42.4...</td>\n",
       "    </tr>\n",
       "    <tr>\n",
       "      <th>1</th>\n",
       "      <td>1</td>\n",
       "      <td>street_music</td>\n",
       "      <td>[-15.744005405358058, 124.1199599305049, -29.4...</td>\n",
       "    </tr>\n",
       "    <tr>\n",
       "      <th>2</th>\n",
       "      <td>2</td>\n",
       "      <td>drilling</td>\n",
       "      <td>[-123.39365145003913, 15.181946313102896, -50....</td>\n",
       "    </tr>\n",
       "    <tr>\n",
       "      <th>3</th>\n",
       "      <td>3</td>\n",
       "      <td>siren</td>\n",
       "      <td>[-213.27878814908152, 89.32358896182456, -55.2...</td>\n",
       "    </tr>\n",
       "    <tr>\n",
       "      <th>4</th>\n",
       "      <td>4</td>\n",
       "      <td>dog_bark</td>\n",
       "      <td>[-237.92647882472895, 135.90246127730546, 39.2...</td>\n",
       "    </tr>\n",
       "  </tbody>\n",
       "</table>\n",
       "</div>"
      ],
      "text/plain": [
       "   ID         Class                                            feature\n",
       "0   0         siren  [-82.12358939071989, 139.50591598130987, -42.4...\n",
       "1   1  street_music  [-15.744005405358058, 124.1199599305049, -29.4...\n",
       "2   2      drilling  [-123.39365145003913, 15.181946313102896, -50....\n",
       "3   3         siren  [-213.27878814908152, 89.32358896182456, -55.2...\n",
       "4   4      dog_bark  [-237.92647882472895, 135.90246127730546, 39.2..."
      ]
     },
     "execution_count": 7,
     "metadata": {},
     "output_type": "execute_result"
    }
   ],
   "source": [
    "train.head()"
   ]
  },
  {
   "cell_type": "code",
   "execution_count": 8,
   "metadata": {},
   "outputs": [
    {
     "data": {
      "text/plain": [
       "(5435, 3)"
      ]
     },
     "execution_count": 8,
     "metadata": {},
     "output_type": "execute_result"
    }
   ],
   "source": [
    "train.shape"
   ]
  },
  {
   "cell_type": "code",
   "execution_count": 9,
   "metadata": {},
   "outputs": [
    {
     "data": {
      "text/plain": [
       "array([-2.28146957e+02,  1.16783928e+02, -2.92170250e+01,  2.11860537e+01,\n",
       "       -1.33138100e+01,  1.45301117e+01, -7.85890876e+00,  1.16454993e+01,\n",
       "       -9.89130769e+00,  9.26867466e+00, -7.32179884e+00,  7.61828521e+00,\n",
       "       -7.05241584e+00,  5.95031905e+00, -5.42099472e+00,  5.06237497e+00,\n",
       "       -4.75747414e+00,  3.26341426e+00, -3.99527348e+00,  1.96462842e+00,\n",
       "       -3.51612940e+00,  1.29424404e+00, -2.80512188e+00,  1.36910411e+00,\n",
       "       -2.31391227e+00,  8.66168668e-01, -1.89768189e+00,  7.09723179e-01,\n",
       "       -1.42346672e+00,  5.52301604e-01, -1.50628000e+00,  2.73481918e-01,\n",
       "       -7.81065822e-01,  2.65449069e-01, -1.07674814e+00, -2.48980678e-02,\n",
       "       -1.03650613e+00, -6.14026934e-01, -1.12443774e+00,  3.02979777e-01,\n",
       "       -7.26743715e-01, -5.49365695e-01, -7.16384568e-01, -1.24377447e-01,\n",
       "       -8.63467104e-01, -3.09334861e-01, -6.76665793e-01, -3.52309692e-01,\n",
       "       -6.26539677e-01, -3.12667638e-01, -6.98119365e-01, -2.90639060e-01,\n",
       "       -5.56275697e-01, -2.28540806e-01, -4.81618351e-01, -2.51080000e-01,\n",
       "       -5.58677227e-01, -3.17954772e-01, -4.29734207e-01, -2.41723693e-01,\n",
       "       -5.29901347e-01, -2.80306008e-01, -3.90864680e-01, -2.90156278e-01,\n",
       "       -4.34942130e-01, -2.12498962e-01, -2.98096701e-01, -1.29643253e-01,\n",
       "       -2.65953706e-01, -2.53207083e-01, -3.59736487e-01, -3.07988369e-01,\n",
       "       -4.38643025e-01, -4.13125086e-01, -4.44061509e-01, -3.79099524e-01,\n",
       "       -4.48672508e-01, -1.99051942e-01, -2.66919900e-01, -1.76785118e-01,\n",
       "       -1.93285937e-01, -1.82126582e-01, -2.26639265e-01, -1.95551970e-01,\n",
       "       -1.62235024e-01, -1.52935853e-01, -4.19519157e-01, -3.63924635e-01,\n",
       "       -2.01888631e-01, -1.48798506e-01, -1.54965599e-01, -1.27996758e-01,\n",
       "       -2.30980366e-01, -2.09170284e-01, -1.80852979e-01, -1.40944651e-01,\n",
       "       -1.86171606e-01, -2.18733537e-01, -3.56660112e-01, -2.94532026e-01])"
      ]
     },
     "execution_count": 9,
     "metadata": {},
     "output_type": "execute_result"
    }
   ],
   "source": [
    "train.feature.mean()"
   ]
  },
  {
   "cell_type": "code",
   "execution_count": 12,
   "metadata": {},
   "outputs": [],
   "source": [
    "from sklearn.preprocessing import LabelEncoder\n",
    "from keras.models import Sequential\n",
    "from keras.layers import Dense, Dropout, Activation\n",
    "from keras.utils import np_utils\n",
    "\n",
    "X = np.array(train.feature.tolist())\n",
    "Y = np.array(train.Class.tolist())\n",
    "\n",
    "lb = LabelEncoder()\n",
    "\n",
    "y = np_utils.to_categorical(lb.fit_transform(Y))\n",
    "\n",
    "\n",
    "num_labels = y.shape[1]\n",
    "filter_size = 2\n",
    "\n",
    "# build model\n",
    "model = Sequential()\n",
    "\n",
    "model.add(Dense(256, input_shape=(100,)))\n",
    "model.add(Activation('relu'))\n",
    "model.add(Dropout(0.5))\n",
    "\n",
    "model.add(Dense(256))\n",
    "model.add(Activation('relu'))\n",
    "model.add(Dropout(0.5))\n",
    "\n",
    "model.add(Dense(num_labels))\n",
    "model.add(Activation('softmax'))\n",
    "\n",
    "model.compile(loss='categorical_crossentropy', metrics=['accuracy'], optimizer='adam')"
   ]
  },
  {
   "cell_type": "code",
   "execution_count": 50,
   "metadata": {},
   "outputs": [
    {
     "data": {
      "text/plain": [
       "<keras.engine.sequential.Sequential at 0x1978beb9a90>"
      ]
     },
     "execution_count": 50,
     "metadata": {},
     "output_type": "execute_result"
    }
   ],
   "source": [
    "model"
   ]
  },
  {
   "cell_type": "code",
   "execution_count": 28,
   "metadata": {},
   "outputs": [
    {
     "name": "stdout",
     "output_type": "stream",
     "text": [
      "Epoch 1/100\n",
      "5435/5435 [==============================] - 0s 55us/step - loss: 0.7658 - acc: 0.7461\n",
      "Epoch 2/100\n",
      "5435/5435 [==============================] - 0s 53us/step - loss: 0.7295 - acc: 0.7575\n",
      "Epoch 3/100\n",
      "5435/5435 [==============================] - 0s 54us/step - loss: 0.7031 - acc: 0.7667\n",
      "Epoch 4/100\n",
      "5435/5435 [==============================] - 0s 55us/step - loss: 0.6827 - acc: 0.7742\n",
      "Epoch 5/100\n",
      "5435/5435 [==============================] - 0s 54us/step - loss: 0.6561 - acc: 0.7914\n",
      "Epoch 6/100\n",
      "5435/5435 [==============================] - 0s 53us/step - loss: 0.6226 - acc: 0.7906\n",
      "Epoch 7/100\n",
      "5435/5435 [==============================] - 0s 54us/step - loss: 0.6289 - acc: 0.7910\n",
      "Epoch 8/100\n",
      "5435/5435 [==============================] - 0s 55us/step - loss: 0.5922 - acc: 0.8002\n",
      "Epoch 9/100\n",
      "5435/5435 [==============================] - 0s 54us/step - loss: 0.5652 - acc: 0.8094\n",
      "Epoch 10/100\n",
      "5435/5435 [==============================] - 0s 54us/step - loss: 0.5553 - acc: 0.8155\n",
      "Epoch 11/100\n",
      "5435/5435 [==============================] - 0s 54us/step - loss: 0.5515 - acc: 0.8178\n",
      "Epoch 12/100\n",
      "5435/5435 [==============================] - 0s 54us/step - loss: 0.5273 - acc: 0.8188\n",
      "Epoch 13/100\n",
      "5435/5435 [==============================] - 0s 55us/step - loss: 0.5405 - acc: 0.8193\n",
      "Epoch 14/100\n",
      "5435/5435 [==============================] - 0s 55us/step - loss: 0.5187 - acc: 0.8261\n",
      "Epoch 15/100\n",
      "5435/5435 [==============================] - 0s 54us/step - loss: 0.5028 - acc: 0.8326\n",
      "Epoch 16/100\n",
      "5435/5435 [==============================] - 0s 54us/step - loss: 0.4684 - acc: 0.8431\n",
      "Epoch 17/100\n",
      "5435/5435 [==============================] - 0s 55us/step - loss: 0.4899 - acc: 0.8377\n",
      "Epoch 18/100\n",
      "5435/5435 [==============================] - 0s 55us/step - loss: 0.4941 - acc: 0.8390\n",
      "Epoch 19/100\n",
      "5435/5435 [==============================] - 0s 54us/step - loss: 0.4791 - acc: 0.8396\n",
      "Epoch 20/100\n",
      "5435/5435 [==============================] - 0s 54us/step - loss: 0.4453 - acc: 0.8511\n",
      "Epoch 21/100\n",
      "5435/5435 [==============================] - 0s 55us/step - loss: 0.4454 - acc: 0.8513\n",
      "Epoch 22/100\n",
      "5435/5435 [==============================] - 0s 55us/step - loss: 0.4459 - acc: 0.8526\n",
      "Epoch 23/100\n",
      "5435/5435 [==============================] - 0s 55us/step - loss: 0.4300 - acc: 0.8587\n",
      "Epoch 24/100\n",
      "5435/5435 [==============================] - 0s 54us/step - loss: 0.4141 - acc: 0.8603\n",
      "Epoch 25/100\n",
      "5435/5435 [==============================] - 0s 55us/step - loss: 0.4132 - acc: 0.8609\n",
      "Epoch 26/100\n",
      "5435/5435 [==============================] - 0s 54us/step - loss: 0.4008 - acc: 0.8683\n",
      "Epoch 27/100\n",
      "5435/5435 [==============================] - 0s 55us/step - loss: 0.3971 - acc: 0.8694\n",
      "Epoch 28/100\n",
      "5435/5435 [==============================] - 0s 55us/step - loss: 0.3862 - acc: 0.8732\n",
      "Epoch 29/100\n",
      "5435/5435 [==============================] - 0s 62us/step - loss: 0.4029 - acc: 0.8692\n",
      "Epoch 30/100\n",
      "5435/5435 [==============================] - 0s 57us/step - loss: 0.3959 - acc: 0.8712\n",
      "Epoch 31/100\n",
      "5435/5435 [==============================] - 0s 55us/step - loss: 0.3755 - acc: 0.8734\n",
      "Epoch 32/100\n",
      "5435/5435 [==============================] - 0s 56us/step - loss: 0.3891 - acc: 0.8753\n",
      "Epoch 33/100\n",
      "5435/5435 [==============================] - 0s 56us/step - loss: 0.3802 - acc: 0.8754\n",
      "Epoch 34/100\n",
      "5435/5435 [==============================] - 0s 55us/step - loss: 0.3683 - acc: 0.8760\n",
      "Epoch 35/100\n",
      "5435/5435 [==============================] - 0s 55us/step - loss: 0.3776 - acc: 0.8754\n",
      "Epoch 36/100\n",
      "5435/5435 [==============================] - 0s 55us/step - loss: 0.3759 - acc: 0.8784\n",
      "Epoch 37/100\n",
      "5435/5435 [==============================] - 0s 55us/step - loss: 0.3581 - acc: 0.8815\n",
      "Epoch 38/100\n",
      "5435/5435 [==============================] - 0s 59us/step - loss: 0.3704 - acc: 0.8791\n",
      "Epoch 39/100\n",
      "5435/5435 [==============================] - 0s 55us/step - loss: 0.3742 - acc: 0.8800\n",
      "Epoch 40/100\n",
      "5435/5435 [==============================] - 0s 55us/step - loss: 0.3769 - acc: 0.8793\n",
      "Epoch 41/100\n",
      "5435/5435 [==============================] - 0s 56us/step - loss: 0.3535 - acc: 0.8832\n",
      "Epoch 42/100\n",
      "5435/5435 [==============================] - 0s 55us/step - loss: 0.3396 - acc: 0.8889\n",
      "Epoch 43/100\n",
      "5435/5435 [==============================] - 0s 55us/step - loss: 0.3578 - acc: 0.8874\n",
      "Epoch 44/100\n",
      "5435/5435 [==============================] - 0s 56us/step - loss: 0.3308 - acc: 0.8913\n",
      "Epoch 45/100\n",
      "5435/5435 [==============================] - 0s 57us/step - loss: 0.3466 - acc: 0.8887\n",
      "Epoch 46/100\n",
      "5435/5435 [==============================] - 0s 56us/step - loss: 0.3293 - acc: 0.8843\n",
      "Epoch 47/100\n",
      "5435/5435 [==============================] - 0s 55us/step - loss: 0.3252 - acc: 0.8946\n",
      "Epoch 48/100\n",
      "5435/5435 [==============================] - 0s 56us/step - loss: 0.3037 - acc: 0.8981\n",
      "Epoch 49/100\n",
      "5435/5435 [==============================] - 0s 56us/step - loss: 0.3331 - acc: 0.8913\n",
      "Epoch 50/100\n",
      "5435/5435 [==============================] - 0s 56us/step - loss: 0.3285 - acc: 0.8949\n",
      "Epoch 51/100\n",
      "5435/5435 [==============================] - 0s 55us/step - loss: 0.3293 - acc: 0.8909\n",
      "Epoch 52/100\n",
      "5435/5435 [==============================] - 0s 55us/step - loss: 0.3277 - acc: 0.8927\n",
      "Epoch 53/100\n",
      "5435/5435 [==============================] - 0s 55us/step - loss: 0.3128 - acc: 0.8937\n",
      "Epoch 54/100\n",
      "5435/5435 [==============================] - 0s 55us/step - loss: 0.3109 - acc: 0.8999\n",
      "Epoch 55/100\n",
      "5435/5435 [==============================] - 0s 56us/step - loss: 0.3234 - acc: 0.8970\n",
      "Epoch 56/100\n",
      "5435/5435 [==============================] - 0s 57us/step - loss: 0.3144 - acc: 0.8955\n",
      "Epoch 57/100\n",
      "5435/5435 [==============================] - 0s 61us/step - loss: 0.3059 - acc: 0.9023\n",
      "Epoch 58/100\n",
      "5435/5435 [==============================] - 0s 57us/step - loss: 0.3055 - acc: 0.9021\n",
      "Epoch 59/100\n",
      "5435/5435 [==============================] - 0s 56us/step - loss: 0.3070 - acc: 0.9047\n",
      "Epoch 60/100\n",
      "5435/5435 [==============================] - 0s 56us/step - loss: 0.2953 - acc: 0.9093\n",
      "Epoch 61/100\n",
      "5435/5435 [==============================] - 0s 58us/step - loss: 0.3182 - acc: 0.9008\n",
      "Epoch 62/100\n",
      "5435/5435 [==============================] - 0s 57us/step - loss: 0.3049 - acc: 0.9038\n",
      "Epoch 63/100\n",
      "5435/5435 [==============================] - 0s 56us/step - loss: 0.3102 - acc: 0.8979\n",
      "Epoch 64/100\n",
      "5435/5435 [==============================] - 0s 59us/step - loss: 0.2722 - acc: 0.9126\n",
      "Epoch 65/100\n",
      "5435/5435 [==============================] - 0s 56us/step - loss: 0.2968 - acc: 0.9054\n",
      "Epoch 66/100\n",
      "5435/5435 [==============================] - 0s 56us/step - loss: 0.3200 - acc: 0.8988\n",
      "Epoch 67/100\n",
      "5435/5435 [==============================] - 0s 57us/step - loss: 0.3063 - acc: 0.9017\n",
      "Epoch 68/100\n",
      "5435/5435 [==============================] - 0s 57us/step - loss: 0.2861 - acc: 0.9080\n",
      "Epoch 69/100\n",
      "5435/5435 [==============================] - 0s 55us/step - loss: 0.2978 - acc: 0.9108\n",
      "Epoch 70/100\n",
      "5435/5435 [==============================] - 0s 59us/step - loss: 0.2906 - acc: 0.9082\n",
      "Epoch 71/100\n",
      "5435/5435 [==============================] - 0s 63us/step - loss: 0.2824 - acc: 0.9047\n",
      "Epoch 72/100\n",
      "5435/5435 [==============================] - 0s 65us/step - loss: 0.3092 - acc: 0.9019\n",
      "Epoch 73/100\n",
      "5435/5435 [==============================] - 0s 58us/step - loss: 0.2834 - acc: 0.9091\n",
      "Epoch 74/100\n",
      "5435/5435 [==============================] - 0s 57us/step - loss: 0.2844 - acc: 0.9111\n",
      "Epoch 75/100\n",
      "5435/5435 [==============================] - 0s 56us/step - loss: 0.3168 - acc: 0.9001\n",
      "Epoch 76/100\n",
      "5435/5435 [==============================] - 0s 58us/step - loss: 0.2750 - acc: 0.9170\n",
      "Epoch 77/100\n",
      "5435/5435 [==============================] - 0s 57us/step - loss: 0.2807 - acc: 0.9104\n",
      "Epoch 78/100\n",
      "5435/5435 [==============================] - 0s 57us/step - loss: 0.3021 - acc: 0.9043\n",
      "Epoch 79/100\n",
      "5435/5435 [==============================] - 0s 58us/step - loss: 0.2895 - acc: 0.9133\n",
      "Epoch 80/100\n",
      "5435/5435 [==============================] - 0s 63us/step - loss: 0.2575 - acc: 0.9163\n",
      "Epoch 81/100\n",
      "5435/5435 [==============================] - 0s 67us/step - loss: 0.2884 - acc: 0.9102\n",
      "Epoch 82/100\n",
      "5435/5435 [==============================] - 0s 58us/step - loss: 0.2604 - acc: 0.9121\n",
      "Epoch 83/100\n"
     ]
    },
    {
     "name": "stdout",
     "output_type": "stream",
     "text": [
      "5435/5435 [==============================] - 0s 57us/step - loss: 0.2520 - acc: 0.9189\n",
      "Epoch 84/100\n",
      "5435/5435 [==============================] - 0s 55us/step - loss: 0.2461 - acc: 0.9211\n",
      "Epoch 85/100\n",
      "5435/5435 [==============================] - 0s 55us/step - loss: 0.2873 - acc: 0.9091\n",
      "Epoch 86/100\n",
      "5435/5435 [==============================] - 0s 57us/step - loss: 0.2745 - acc: 0.9143\n",
      "Epoch 87/100\n",
      "5435/5435 [==============================] - 0s 56us/step - loss: 0.2730 - acc: 0.9167\n",
      "Epoch 88/100\n",
      "5435/5435 [==============================] - 0s 56us/step - loss: 0.2702 - acc: 0.9152\n",
      "Epoch 89/100\n",
      "5435/5435 [==============================] - 0s 56us/step - loss: 0.2848 - acc: 0.9111\n",
      "Epoch 90/100\n",
      "5435/5435 [==============================] - 0s 56us/step - loss: 0.2715 - acc: 0.9133\n",
      "Epoch 91/100\n",
      "5435/5435 [==============================] - 0s 56us/step - loss: 0.2866 - acc: 0.9141\n",
      "Epoch 92/100\n",
      "5435/5435 [==============================] - 0s 57us/step - loss: 0.2798 - acc: 0.9128\n",
      "Epoch 93/100\n",
      "5435/5435 [==============================] - 0s 56us/step - loss: 0.2870 - acc: 0.9154\n",
      "Epoch 94/100\n",
      "5435/5435 [==============================] - 0s 56us/step - loss: 0.2540 - acc: 0.9144\n",
      "Epoch 95/100\n",
      "5435/5435 [==============================] - 0s 56us/step - loss: 0.2535 - acc: 0.9168\n",
      "Epoch 96/100\n",
      "5435/5435 [==============================] - 0s 56us/step - loss: 0.2337 - acc: 0.9262\n",
      "Epoch 97/100\n",
      "5435/5435 [==============================] - 0s 56us/step - loss: 0.2992 - acc: 0.9084\n",
      "Epoch 98/100\n",
      "5435/5435 [==============================] - 0s 58us/step - loss: 0.2541 - acc: 0.9187\n",
      "Epoch 99/100\n",
      "5435/5435 [==============================] - 0s 58us/step - loss: 0.2528 - acc: 0.9201\n",
      "Epoch 100/100\n",
      "5435/5435 [==============================] - 0s 56us/step - loss: 0.2465 - acc: 0.9192\n"
     ]
    },
    {
     "data": {
      "text/plain": [
       "<keras.callbacks.History at 0x1392e6c8f98>"
      ]
     },
     "execution_count": 28,
     "metadata": {},
     "output_type": "execute_result"
    }
   ],
   "source": [
    "model.fit(X, y, batch_size=32, epochs=100)"
   ]
  },
  {
   "cell_type": "code",
   "execution_count": 29,
   "metadata": {},
   "outputs": [
    {
     "name": "stdout",
     "output_type": "stream",
     "text": [
      "5435/5435 [==============================] - 0s 25us/step\n"
     ]
    },
    {
     "data": {
      "text/plain": [
       "[0.0687490442351343, 0.9825206992817013]"
      ]
     },
     "execution_count": 29,
     "metadata": {},
     "output_type": "execute_result"
    }
   ],
   "source": [
    "model.evaluate(X, y)"
   ]
  },
  {
   "cell_type": "code",
   "execution_count": 14,
   "metadata": {},
   "outputs": [],
   "source": [
    "test = pd.read_csv('D:/UNI/IA/RadioAnalyzer/test.csv')"
   ]
  },
  {
   "cell_type": "code",
   "execution_count": 15,
   "metadata": {},
   "outputs": [
    {
     "data": {
      "text/html": [
       "<div>\n",
       "<style scoped>\n",
       "    .dataframe tbody tr th:only-of-type {\n",
       "        vertical-align: middle;\n",
       "    }\n",
       "\n",
       "    .dataframe tbody tr th {\n",
       "        vertical-align: top;\n",
       "    }\n",
       "\n",
       "    .dataframe thead th {\n",
       "        text-align: right;\n",
       "    }\n",
       "</style>\n",
       "<table border=\"1\" class=\"dataframe\">\n",
       "  <thead>\n",
       "    <tr style=\"text-align: right;\">\n",
       "      <th></th>\n",
       "      <th>ID</th>\n",
       "    </tr>\n",
       "  </thead>\n",
       "  <tbody>\n",
       "    <tr>\n",
       "      <th>0</th>\n",
       "      <td>5</td>\n",
       "    </tr>\n",
       "    <tr>\n",
       "      <th>1</th>\n",
       "      <td>7</td>\n",
       "    </tr>\n",
       "    <tr>\n",
       "      <th>2</th>\n",
       "      <td>8</td>\n",
       "    </tr>\n",
       "    <tr>\n",
       "      <th>3</th>\n",
       "      <td>9</td>\n",
       "    </tr>\n",
       "    <tr>\n",
       "      <th>4</th>\n",
       "      <td>13</td>\n",
       "    </tr>\n",
       "  </tbody>\n",
       "</table>\n",
       "</div>"
      ],
      "text/plain": [
       "   ID\n",
       "0   5\n",
       "1   7\n",
       "2   8\n",
       "3   9\n",
       "4  13"
      ]
     },
     "execution_count": 15,
     "metadata": {},
     "output_type": "execute_result"
    }
   ],
   "source": [
    "test.head()"
   ]
  },
  {
   "cell_type": "code",
   "execution_count": 19,
   "metadata": {},
   "outputs": [],
   "source": [
    "def parser2(row):\n",
    "    file_name = 'D:/UNI/IA/RadioAnalyzer/test/'+str(row.ID)+'.wav'\n",
    "    try:\n",
    "        X, sample_rate = librosa.load(file_name, res_type='kaiser_fast')\n",
    "        mfccs = np.mean(librosa.feature.mfcc(y=X, sr=sample_rate, n_mfcc=100).T,axis=0) \n",
    "    except Exception as e:\n",
    "        print(\"Error encountered while parsing file: \", e)\n",
    "        return None\n",
    " \n",
    "    feature = mfccs\n",
    "    return feature\n",
    "test['feature'] = test.apply(lambda row:parser2(row),axis=1)"
   ]
  },
  {
   "cell_type": "code",
   "execution_count": 20,
   "metadata": {},
   "outputs": [],
   "source": [
    "test_X = np.array(test.feature.tolist())"
   ]
  },
  {
   "cell_type": "code",
   "execution_count": 21,
   "metadata": {},
   "outputs": [],
   "source": [
    "test_Y = model.predict_classes(test_X)"
   ]
  },
  {
   "cell_type": "code",
   "execution_count": 22,
   "metadata": {},
   "outputs": [
    {
     "data": {
      "text/plain": [
       "array([4, 3, 4, ..., 7, 3, 8], dtype=int64)"
      ]
     },
     "execution_count": 22,
     "metadata": {},
     "output_type": "execute_result"
    }
   ],
   "source": [
    "test_Y"
   ]
  },
  {
   "cell_type": "code",
   "execution_count": 23,
   "metadata": {},
   "outputs": [],
   "source": [
    "test_Y_class = lb.inverse_transform(test_Y)"
   ]
  },
  {
   "cell_type": "code",
   "execution_count": 24,
   "metadata": {},
   "outputs": [
    {
     "data": {
      "text/plain": [
       "array(['drilling', 'dog_bark', 'drilling', ..., 'jackhammer', 'dog_bark',\n",
       "       'siren'], dtype='<U16')"
      ]
     },
     "execution_count": 24,
     "metadata": {},
     "output_type": "execute_result"
    }
   ],
   "source": [
    "test_Y_class"
   ]
  },
  {
   "cell_type": "code",
   "execution_count": 25,
   "metadata": {},
   "outputs": [],
   "source": [
    "test['Class'] = test_Y_class\n",
    "test = test.drop('feature',axis=1)"
   ]
  },
  {
   "cell_type": "code",
   "execution_count": 26,
   "metadata": {},
   "outputs": [],
   "source": [
    "test.to_csv(\"D:/UNI/IA/RadioAnalyzer/out2.csv\", index=False)"
   ]
  },
  {
   "cell_type": "code",
   "execution_count": 30,
   "metadata": {},
   "outputs": [],
   "source": [
    "train['calculated'] = lb.inverse_transform(model.predict_classes(X))"
   ]
  },
  {
   "cell_type": "code",
   "execution_count": 32,
   "metadata": {},
   "outputs": [],
   "source": [
    "train['ok'] = (train['Class']==train['calculated'])"
   ]
  },
  {
   "cell_type": "code",
   "execution_count": 33,
   "metadata": {},
   "outputs": [
    {
     "data": {
      "text/html": [
       "<div>\n",
       "<style scoped>\n",
       "    .dataframe tbody tr th:only-of-type {\n",
       "        vertical-align: middle;\n",
       "    }\n",
       "\n",
       "    .dataframe tbody tr th {\n",
       "        vertical-align: top;\n",
       "    }\n",
       "\n",
       "    .dataframe thead th {\n",
       "        text-align: right;\n",
       "    }\n",
       "</style>\n",
       "<table border=\"1\" class=\"dataframe\">\n",
       "  <thead>\n",
       "    <tr style=\"text-align: right;\">\n",
       "      <th></th>\n",
       "      <th>ID</th>\n",
       "      <th>Class</th>\n",
       "      <th>feature</th>\n",
       "      <th>calculated</th>\n",
       "      <th>ok</th>\n",
       "    </tr>\n",
       "  </thead>\n",
       "  <tbody>\n",
       "    <tr>\n",
       "      <th>0</th>\n",
       "      <td>0</td>\n",
       "      <td>siren</td>\n",
       "      <td>[-82.12358939071989, 139.50591598130987, -42.4...</td>\n",
       "      <td>siren</td>\n",
       "      <td>True</td>\n",
       "    </tr>\n",
       "    <tr>\n",
       "      <th>1</th>\n",
       "      <td>1</td>\n",
       "      <td>street_music</td>\n",
       "      <td>[-15.744005405358058, 124.1199599305049, -29.4...</td>\n",
       "      <td>street_music</td>\n",
       "      <td>True</td>\n",
       "    </tr>\n",
       "    <tr>\n",
       "      <th>2</th>\n",
       "      <td>2</td>\n",
       "      <td>drilling</td>\n",
       "      <td>[-123.39365145003913, 15.181946313102896, -50....</td>\n",
       "      <td>drilling</td>\n",
       "      <td>True</td>\n",
       "    </tr>\n",
       "    <tr>\n",
       "      <th>3</th>\n",
       "      <td>3</td>\n",
       "      <td>siren</td>\n",
       "      <td>[-213.27878814908152, 89.32358896182456, -55.2...</td>\n",
       "      <td>siren</td>\n",
       "      <td>True</td>\n",
       "    </tr>\n",
       "    <tr>\n",
       "      <th>4</th>\n",
       "      <td>4</td>\n",
       "      <td>dog_bark</td>\n",
       "      <td>[-237.92647882472895, 135.90246127730546, 39.2...</td>\n",
       "      <td>dog_bark</td>\n",
       "      <td>True</td>\n",
       "    </tr>\n",
       "  </tbody>\n",
       "</table>\n",
       "</div>"
      ],
      "text/plain": [
       "   ID         Class                                            feature  \\\n",
       "0   0         siren  [-82.12358939071989, 139.50591598130987, -42.4...   \n",
       "1   1  street_music  [-15.744005405358058, 124.1199599305049, -29.4...   \n",
       "2   2      drilling  [-123.39365145003913, 15.181946313102896, -50....   \n",
       "3   3         siren  [-213.27878814908152, 89.32358896182456, -55.2...   \n",
       "4   4      dog_bark  [-237.92647882472895, 135.90246127730546, 39.2...   \n",
       "\n",
       "     calculated    ok  \n",
       "0         siren  True  \n",
       "1  street_music  True  \n",
       "2      drilling  True  \n",
       "3         siren  True  \n",
       "4      dog_bark  True  "
      ]
     },
     "execution_count": 33,
     "metadata": {},
     "output_type": "execute_result"
    }
   ],
   "source": [
    "train.head()"
   ]
  },
  {
   "cell_type": "code",
   "execution_count": 36,
   "metadata": {},
   "outputs": [
    {
     "data": {
      "text/plain": [
       "0.9825206991720331"
      ]
     },
     "execution_count": 36,
     "metadata": {},
     "output_type": "execute_result"
    }
   ],
   "source": [
    "train['ok'].mean()"
   ]
  },
  {
   "cell_type": "code",
   "execution_count": 45,
   "metadata": {},
   "outputs": [],
   "source": [
    "error = train[train.ok==False]"
   ]
  },
  {
   "cell_type": "code",
   "execution_count": 55,
   "metadata": {},
   "outputs": [
    {
     "data": {
      "text/plain": [
       "dog_bark            32\n",
       "gun_shot            25\n",
       "street_music        16\n",
       "children_playing     7\n",
       "air_conditioner      6\n",
       "siren                5\n",
       "car_horn             2\n",
       "jackhammer           1\n",
       "engine_idling        1\n",
       "Name: Class, dtype: int64"
      ]
     },
     "execution_count": 55,
     "metadata": {},
     "output_type": "execute_result"
    }
   ],
   "source": [
    "error.Class.value_counts()"
   ]
  },
  {
   "cell_type": "code",
   "execution_count": 56,
   "metadata": {},
   "outputs": [
    {
     "data": {
      "text/plain": [
       "children_playing    60\n",
       "dog_bark            18\n",
       "street_music        11\n",
       "jackhammer           2\n",
       "gun_shot             2\n",
       "air_conditioner      2\n",
       "Name: calculated, dtype: int64"
      ]
     },
     "execution_count": 56,
     "metadata": {},
     "output_type": "execute_result"
    }
   ],
   "source": [
    "error.calculated.value_counts()"
   ]
  },
  {
   "cell_type": "code",
   "execution_count": null,
   "metadata": {},
   "outputs": [],
   "source": []
  }
 ],
 "metadata": {
  "kernelspec": {
   "display_name": "Python 3",
   "language": "python",
   "name": "python3"
  },
  "language_info": {
   "codemirror_mode": {
    "name": "ipython",
    "version": 3
   },
   "file_extension": ".py",
   "mimetype": "text/x-python",
   "name": "python",
   "nbconvert_exporter": "python",
   "pygments_lexer": "ipython3",
   "version": "3.7.3"
  }
 },
 "nbformat": 4,
 "nbformat_minor": 2
}
